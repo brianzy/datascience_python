{
 "cells": [
  {
   "cell_type": "markdown",
   "metadata": {},
   "source": [
    "### Reference: <br>\n",
    "Data science basics<br>\n",
    "Doing Data Science<br>\n",
    "By: Cathy O'Neil; Rachel Schutt<br>\n",
    "Publisher: O'Reilly Media, Inc.<br>\n",
    "Pub. Date: October 24, 2013<br>\n",
    "Print ISBN-13: 978-1-4493-5865-5<br>\n",
    "Chapter 3 <br>\n",
    "http://proquest.safaribooksonline.com.proxy.lib.odu.edu/book/databases/9781449363871\n",
    "\n",
    "Python Data Science Handbook <br>\n",
    "Essential Tools for Working with Data <br>\n",
    "By Jake VanderPlas<br>\n",
    "Publisher: O'Reilly Media <br>\n",
    "Release Date: November 2016 <br>\n",
    "http://proquest.safaribooksonline.com.proxy.lib.odu.edu/book/programming/python/9781491912126 <br>\n",
    "K_means example discussed in the notebook is adapted from the code accompanied with this text: <br>\n",
    "\n",
    "https://jakevdp.github.io/PythonDataScienceHandbook/05.11-k-means.html"
   ]
  },
  {
   "cell_type": "markdown",
   "metadata": {},
   "source": [
    "### K-Means Clustering\n",
    "\n",
    "#### Unsupervised Learning\n",
    "In supervissed learning we build a model by sample data (training set), where we know beforehand what is the value for the outcome variable (for example, regression). In other words, we have labeled data for training. On the other hand, in the unsupervised learning we try to find patterns or grouping in un-labeled data.\n",
    "\n",
    "\"K-Means is an example of unsupervised learning technique, where the goal of the algorithm is to find grouping in un-labeled data\"\n",
    "\n",
    "#### Centroid for a set of d-dimensional points\n",
    "Example: Three 2-dimensional points   $(2,5), (1,7), (3, 9)$. The centroid for this set is: $((2+1+3)/3,  (5+7+9)/3) = (2, 7)$\n",
    "\n",
    "The outline of the algorithm for clustering d-dimensional points is given below.\n",
    "\n",
    "<ul>\n",
    "<li>Initially, randomly pick k centroids (or points that will be the center of your clusters) in d-space. \n",
    "<li> Then assign each data point to the closest centroid.\n",
    "<li> Update the centroids by taking averages of data points assigned to it.\n",
    "<li> Repeat the preceding two steps until the assignments don’t change, or change very little.\n",
    "</ul>\n",
    "\n"
   ]
  },
  {
   "cell_type": "code",
   "execution_count": 38,
   "metadata": {
    "collapsed": true
   },
   "outputs": [],
   "source": [
    "%matplotlib inline\n",
    "import matplotlib.pyplot as plt\n",
    "import seaborn as sns; sns.set()  # for plot styling\n",
    "import numpy as np"
   ]
  },
  {
   "cell_type": "code",
   "execution_count": null,
   "metadata": {
    "collapsed": true
   },
   "outputs": [],
   "source": []
  },
  {
   "attachments": {
    "image.png": {
     "image/png": "[encoded data removed]"
    }
   },
   "cell_type": "markdown",
   "metadata": {},
   "source": [
    "#### Assign each data point to the closest centroid\n",
    "\n",
    "Consider three points $x_0$, $x_1$, and $x_2$;  and two centroid $y_0$ and $y_1$.\n",
    "\n",
    "![image.png](attachment:image.png)\n",
    "\n",
    "\n",
    "If dist($x_0$,$y_0$) <  dist($x_0$,$y_1$)  assign $x_0$ a label $0$ to indicate it is assigned to $y_0$\n",
    "\n",
    "If dist($x_1$,$y_0$) <  dist($x_1$,$y_1$)  assign $x_1$ a label $0$ to indicate it is assigned to $y_0$\n",
    "\n",
    "If dist($x_2$,$y_1$) <  dist($x_2$,$y_0$)  assign $x_2$ a label $1$ to indicate it is assigned to $y_1$\n",
    "\n",
    "One naive way to do this computation is to set up a nested loop, where the outer loop is over the number of samples (x's), and in the inner loop is over the number of centroids (clusters).\n",
    "\n",
    "The main computation is to compute the Euclidean distance between a point with a centroid and keep track of the centroid with the minimum distance. \n",
    "\n",
    "Performing this computation by setting up nested loop can be very slow. As a general rule perform numpy array operation wherever possible. \n",
    "\n",
    "Now we look at an efficient way of doing this computation.\n"
   ]
  },
  {
   "cell_type": "code",
   "execution_count": 39,
   "metadata": {},
   "outputs": [
    {
     "data": {
      "text/plain": [
       "array([[8, 3, 1],\n",
       "       [2, 1, 8],\n",
       "       [7, 2, 2],\n",
       "       [2, 4, 3],\n",
       "       [6, 7, 4],\n",
       "       [2, 4, 5],\n",
       "       [0, 7, 3]])"
      ]
     },
     "execution_count": 39,
     "metadata": {},
     "output_type": "execute_result"
    }
   ],
   "source": [
    "# Generate 7 3-d samples\n",
    "X = np.random.randint(10, size=(7,3))\n",
    "X"
   ]
  },
  {
   "cell_type": "code",
   "execution_count": 40,
   "metadata": {},
   "outputs": [
    {
     "data": {
      "text/plain": [
       "array([[3, 8, 7],\n",
       "       [0, 6, 1],\n",
       "       [1, 7, 5],\n",
       "       [0, 5, 0]])"
      ]
     },
     "execution_count": 40,
     "metadata": {},
     "output_type": "execute_result"
    }
   ],
   "source": [
    "# Generate 4 3-d samples (centroids)\n",
    "Y = np.random.randint(10, size=(4,3))\n",
    "Y"
   ]
  },
  {
   "cell_type": "markdown",
   "metadata": {},
   "source": [
    "First we compute a distance matrix of size $7 \\times 4$ where an entry $d_{ij}$ is the Euclidean distance between sample $x_i$ with centroid $y_j$.\n",
    "\n",
    "Note that Euclidean distance between $x_i = (x_i^0, x_i^1, x_i^2)$  with $y_j = (y_i^0, y_i^1, y_i^2)$ is given by:\n",
    "\n",
    "$d_{ij} = \\sqrt{(x_i - y_j)^2)} =  \\sqrt{(x_i^0 - y_j^0)^2 + (x_i^1 - y_j^1)^2 + (x_i^2 - y_j^2)^2  }$\n",
    "\n",
    "$d_{ij} = \\sqrt{(x_i^0)^2 + (x_i^1)^2 + (x_i^2)^2 + (y_j^0)^2 + (y_j^1)^2 + (y_j^2)^2 - 2(x_i^0y_j^0 + x_i^1y_j^1 + x_i^2y_j^2)}$ "
   ]
  },
  {
   "cell_type": "markdown",
   "metadata": {},
   "source": [
    "Exercise: Write the expression for every element of  the first row of the $d_{ij}$  matrix of size $7 times 4$:\n",
    "$d_{00} = \\sqrt{(x_0 - y_0)^2} =  \\sqrt{(x_0^0 - y_0^0)^2 + (x_0^1 - y_0^1)^2 + (x_0^2 - y_0^2)^2  } $ \n",
    "\n",
    "$d_{01} = \\sqrt{(x_0 - y_1)^2} =  \\sqrt{(x_0^0 - y_1^0)^2 + (x_0^1 - y_1^1)^2 + (x_0^2 - y_1^2)^2  }  $\n",
    "\n",
    "$d_{02} = \\sqrt{(x_0 - y_2)^2} =  \\sqrt{(x_0^0 - y_2^0)^2 + (x_0^1 - y_2^1)^2 + (x_0^2 - y_2^2)^2  }  $\n",
    "\n",
    "$d_{03} = \\sqrt{(x_0 - y_3)^2} =  \\sqrt{(x_0^0 - y_3^0)^2 + (x_0^1 - y_3^1)^2 + (x_0^2 - y_3^2)^2  }  $\n",
    "\n",
    "Identify the compuation that can be reused in evaluating these terms."
   ]
  },
  {
   "cell_type": "code",
   "execution_count": 41,
   "metadata": {},
   "outputs": [
    {
     "name": "stdout",
     "output_type": "stream",
     "text": [
      "[[8 3 1]\n",
      " [2 1 8]\n",
      " [7 2 2]\n",
      " [2 4 3]\n",
      " [6 7 4]\n",
      " [2 4 5]\n",
      " [0 7 3]]\n"
     ]
    },
    {
     "data": {
      "text/plain": [
       "array([ 74,  69,  57,  29, 101,  45,  58], dtype=int32)"
      ]
     },
     "execution_count": 41,
     "metadata": {},
     "output_type": "execute_result"
    }
   ],
   "source": [
    "print(X)\n",
    "x2 = np.sum(X**2, axis=1)\n",
    "x2"
   ]
  },
  {
   "cell_type": "code",
   "execution_count": 42,
   "metadata": {},
   "outputs": [
    {
     "data": {
      "text/plain": [
       "array([[ 74],\n",
       "       [ 69],\n",
       "       [ 57],\n",
       "       [ 29],\n",
       "       [101],\n",
       "       [ 45],\n",
       "       [ 58]], dtype=int32)"
      ]
     },
     "execution_count": 42,
     "metadata": {},
     "output_type": "execute_result"
    }
   ],
   "source": [
    "x2 = np.sum(X**2, axis=1).reshape((7,1))\n",
    "x2"
   ]
  },
  {
   "cell_type": "code",
   "execution_count": 43,
   "metadata": {},
   "outputs": [
    {
     "name": "stdout",
     "output_type": "stream",
     "text": [
      "(1, 4)\n"
     ]
    }
   ],
   "source": [
    "y2 = np.sum(Y**2, axis=1).reshape((1, 4))\n",
    "print (np.shape(y2))"
   ]
  },
  {
   "cell_type": "code",
   "execution_count": 44,
   "metadata": {
    "collapsed": true
   },
   "outputs": [],
   "source": [
    "xy = X.dot(Y.T)"
   ]
  },
  {
   "cell_type": "code",
   "execution_count": 45,
   "metadata": {},
   "outputs": [
    {
     "name": "stdout",
     "output_type": "stream",
     "text": [
      "(7, 4)\n"
     ]
    }
   ],
   "source": [
    "print (np.shape(xy))"
   ]
  },
  {
   "cell_type": "code",
   "execution_count": 46,
   "metadata": {},
   "outputs": [],
   "source": [
    "dists = np.sqrt(x2 + y2 - 2*xy)"
   ]
  },
  {
   "cell_type": "code",
   "execution_count": 47,
   "metadata": {},
   "outputs": [
    {
     "data": {
      "text/plain": [
       "array([[ 9.2736185 ,  8.54400375,  9.        ,  8.30662386],\n",
       "       [ 7.14142843,  8.83176087,  6.78232998,  9.16515139],\n",
       "       [ 8.77496439,  8.1240384 ,  8.36660027,  7.87400787],\n",
       "       [ 5.74456265,  3.46410162,  3.74165739,  3.74165739],\n",
       "       [ 4.35889894,  6.78232998,  5.09901951,  7.48331477],\n",
       "       [ 4.58257569,  4.89897949,  3.16227766,  5.47722558],\n",
       "       [ 5.09901951,  2.23606798,  2.23606798,  3.60555128]])"
      ]
     },
     "execution_count": 47,
     "metadata": {},
     "output_type": "execute_result"
    }
   ],
   "source": [
    "dists"
   ]
  },
  {
   "cell_type": "markdown",
   "metadata": {},
   "source": [
    "Exercise: Compute the distance matrix by explicitly broadcasting the arrays before performing array operations (please review Numpy I notebook). In other words when you perform the array operation, dists = np.sqrt(x2 + y2 - 2*xy), all arrays should have the same shape."
   ]
  },
  {
   "cell_type": "code",
   "execution_count": 65,
   "metadata": {},
   "outputs": [
    {
     "name": "stdout",
     "output_type": "stream",
     "text": [
      "(7, 4)\n",
      "(7, 4)\n",
      "[[ 9.2736185   8.54400375  9.          8.30662386]\n",
      " [ 7.14142843  8.83176087  6.78232998  9.16515139]\n",
      " [ 8.77496439  8.1240384   8.36660027  7.87400787]\n",
      " [ 5.74456265  3.46410162  3.74165739  3.74165739]\n",
      " [ 4.35889894  6.78232998  5.09901951  7.48331477]\n",
      " [ 4.58257569  4.89897949  3.16227766  5.47722558]\n",
      " [ 5.09901951  2.23606798  2.23606798  3.60555128]]\n"
     ]
    }
   ],
   "source": [
    "y2b=np.array([y2[0,:],]*7)\n",
    "print(np.shape(y2b))\n",
    "x2b=np.array([x2[:,0]]*4).transpose()\n",
    "print(np.shape(x2b))\n",
    "dists=np.sqrt(x2b+y2b-2*xy)\n",
    "print(dists)\n",
    "\n"
   ]
  },
  {
   "cell_type": "code",
   "execution_count": 58,
   "metadata": {},
   "outputs": [
    {
     "data": {
      "text/plain": [
       "array([3, 2, 3, 1, 0, 2, 1], dtype=int64)"
      ]
     },
     "execution_count": 58,
     "metadata": {},
     "output_type": "execute_result"
    }
   ],
   "source": [
    "#find minimum number and get index\n",
    "labels = np.argmin(dists, axis=1)\n",
    "labels"
   ]
  },
  {
   "cell_type": "markdown",
   "metadata": {},
   "source": [
    "### Compute labels using "
   ]
  },
  {
   "cell_type": "code",
   "execution_count": 49,
   "metadata": {},
   "outputs": [
    {
     "data": {
      "text/plain": [
       "array([3, 2, 3, 1, 0, 2, 1], dtype=int64)"
      ]
     },
     "execution_count": 49,
     "metadata": {},
     "output_type": "execute_result"
    }
   ],
   "source": [
    "from sklearn.metrics import pairwise_distances_argmin\n",
    "labels = pairwise_distances_argmin(X, Y)\n",
    "labels"
   ]
  },
  {
   "cell_type": "markdown",
   "metadata": {},
   "source": [
    "###  Complete Algorithm for finding clusters using k means"
   ]
  },
  {
   "cell_type": "code",
   "execution_count": 62,
   "metadata": {},
   "outputs": [
    {
     "data": {
      "text/plain": [
       "array([[  8.36856841e-01,   2.13635938e+00],\n",
       "       [ -1.41365810e+00,   7.40962324e+00],\n",
       "       [  1.15521298e+00,   5.09961887e+00],\n",
       "       [ -1.01861632e+00,   7.81491465e+00],\n",
       "       [  1.27135141e+00,   1.89254207e+00],\n",
       "       [  3.43761754e+00,   2.61654166e-01],\n",
       "       [ -1.80822253e+00,   1.59701749e+00],\n",
       "       [  1.41372442e+00,   4.38117707e+00],\n",
       "       [ -2.04932168e-01,   8.43209665e+00],\n",
       "       [ -7.11099611e-01,   8.66043846e+00],\n",
       "       [ -1.71237268e+00,   2.77780226e+00],\n",
       "       [ -2.67000792e+00,   8.35389140e+00],\n",
       "       [  1.24258802e+00,   4.50399192e+00],\n",
       "       [ -2.22783649e+00,   6.89479938e+00],\n",
       "       [  1.45513831e+00,  -2.91989981e-02],\n",
       "       [  4.53791789e-01,   3.95647753e+00],\n",
       "       [  1.06923853e+00,   4.53068484e+00],\n",
       "       [  2.56936589e+00,   5.07048304e-01],\n",
       "       [ -1.06690610e+00,   3.13165795e+00],\n",
       "       [ -1.07859101e+00,   2.20451529e+00],\n",
       "       [  2.71506328e+00,   1.29082190e+00],\n",
       "       [  1.77710994e+00,   1.18655254e+00],\n",
       "       [  7.34363910e-01,   5.03725437e+00],\n",
       "       [ -1.99648151e+00,   2.85164868e+00],\n",
       "       [ -1.91828017e+00,   2.60516867e+00],\n",
       "       [ -5.55523811e-01,   4.69595848e+00],\n",
       "       [  1.69747910e+00,   8.66123282e-01],\n",
       "       [  5.94762432e-01,   4.70964730e+00],\n",
       "       [ -2.88024255e+00,   2.30437816e+00],\n",
       "       [  1.86725632e-01,   4.02683656e+00],\n",
       "       [ -5.13333436e-01,   7.87437368e+00],\n",
       "       [ -2.05701103e+00,   7.37851598e+00],\n",
       "       [  1.87271752e+00,   4.18069237e+00],\n",
       "       [ -1.13121396e+00,   6.76652230e+00],\n",
       "       [ -1.64428957e+00,   7.94095139e+00],\n",
       "       [ -2.41933824e+00,   7.43952498e+00],\n",
       "       [ -2.01606928e+00,   7.48420129e+00],\n",
       "       [ -2.62142780e+00,   7.98635066e+00],\n",
       "       [ -2.20299950e+00,   2.47947561e+00],\n",
       "       [  1.66382237e+00,   6.63091635e-01],\n",
       "       [  6.69786996e-01,   3.59540802e+00],\n",
       "       [ -1.98539037e+00,   2.05520738e+00],\n",
       "       [ -4.74920358e-02,   5.47425256e+00],\n",
       "       [  1.54462126e+00,   4.21078127e+00],\n",
       "       [ -1.70200643e+00,   2.46098693e+00],\n",
       "       [ -1.02192525e+00,   2.76820711e+00],\n",
       "       [ -1.37842552e+00,   8.10269597e+00],\n",
       "       [ -1.55220688e+00,   2.74574995e+00],\n",
       "       [ -1.47904303e+00,   7.56915836e+00],\n",
       "       [  1.98894313e+00,   1.50976729e+00],\n",
       "       [ -1.94972418e+00,   3.48383870e+00],\n",
       "       [  2.45509737e+00,   6.21231788e-01],\n",
       "       [ -8.94327882e-01,   7.61714473e+00],\n",
       "       [  1.69687788e+00,   7.54910622e-01],\n",
       "       [  1.75644805e+00,   2.05538289e+00],\n",
       "       [ -1.11064012e+00,   2.82213820e+00],\n",
       "       [ -4.15017659e-02,   7.80870276e+00],\n",
       "       [ -1.14091533e+00,   1.97550822e+00],\n",
       "       [ -1.80634968e+00,   7.72830656e+00],\n",
       "       [  1.39263752e+00,   9.28962707e-01],\n",
       "       [ -2.25698670e+00,   7.30207720e+00],\n",
       "       [  5.71670482e-01,   4.32288566e+00],\n",
       "       [ -1.54994580e+00,   9.28293222e+00],\n",
       "       [ -1.03819212e+00,   2.95323761e+00],\n",
       "       [ -2.10956676e+00,   3.10677258e+00],\n",
       "       [ -1.18652985e+00,   2.78427720e+00],\n",
       "       [ -2.45809975e+00,   7.51178724e+00],\n",
       "       [  2.36960214e+00,   9.50716912e-01],\n",
       "       [ -2.66676007e+00,   7.84766052e+00],\n",
       "       [ -1.49720702e+00,   3.21418433e+00],\n",
       "       [  1.32222457e+00,   4.17880807e+00],\n",
       "       [ -4.87271301e-01,   3.32858293e+00],\n",
       "       [ -1.03718771e+00,   8.06300134e+00],\n",
       "       [ -1.60496819e+00,   2.97425420e+00],\n",
       "       [ -1.50372568e+00,   1.92385320e+00],\n",
       "       [ -7.85412206e-01,   8.45312331e+00],\n",
       "       [ -1.75783190e+00,   2.97449321e+00],\n",
       "       [  1.19008992e+00,   4.72773123e+00],\n",
       "       [  2.14043942e+00,   7.06066610e-01],\n",
       "       [ -1.03540116e+00,   8.20559195e+00],\n",
       "       [  1.25471244e+00,   8.96331565e-02],\n",
       "       [  5.95676822e-01,   4.08614263e+00],\n",
       "       [  1.27955338e+00,   1.05789418e+00],\n",
       "       [  1.72955064e+00,   1.14729369e+00],\n",
       "       [ -9.49041610e-01,   8.46424331e+00],\n",
       "       [  9.35325115e-01,   5.33179296e+00],\n",
       "       [  2.36923352e+00,   7.94735861e-01],\n",
       "       [  4.28576743e-01,   4.97399710e+00],\n",
       "       [ -2.04758277e+00,   6.65428520e+00],\n",
       "       [ -1.45672617e+00,   7.48669893e+00],\n",
       "       [  5.29417185e-01,   3.80792420e+00],\n",
       "       [  1.78194802e+00,   9.08151155e-01],\n",
       "       [ -1.95575053e+00,   8.61631686e+00],\n",
       "       [ -1.74572014e+00,   3.01190457e+00],\n",
       "       [ -1.17979111e+00,   3.12767494e+00],\n",
       "       [  1.16411070e+00,   3.79132988e+00],\n",
       "       [  1.36155806e+00,   1.36638252e+00],\n",
       "       [  2.60137487e+00,   1.08799459e+00],\n",
       "       [  2.72396035e-01,   5.46996004e+00],\n",
       "       [ -3.12240736e+00,   3.28167398e+00],\n",
       "       [ -5.88085172e-01,   8.61427320e+00],\n",
       "       [  1.66909648e+00,  -4.36378231e-01],\n",
       "       [ -6.82774903e-01,   7.67490317e+00],\n",
       "       [  2.36790645e+00,   5.52190878e-01],\n",
       "       [  1.05241733e+00,   4.54498095e+00],\n",
       "       [  2.22707373e+00,   1.26296996e+00],\n",
       "       [  2.43934644e+00,  -7.25099666e-02],\n",
       "       [  1.34471770e+00,   4.85711133e+00],\n",
       "       [ -1.31454942e+00,   6.83904013e+00],\n",
       "       [  9.82570091e-01,   5.37530962e+00],\n",
       "       [ -1.06295223e+00,   2.20755388e+00],\n",
       "       [ -1.60712495e+00,   3.56452854e+00],\n",
       "       [  1.57322172e+00,   4.83933793e-01],\n",
       "       [ -2.17851338e+00,   8.08585131e+00],\n",
       "       [  1.83375842e+00,   7.54036153e-01],\n",
       "       [  2.10616050e+00,   3.49513189e+00],\n",
       "       [ -1.64338755e+00,   7.52691964e+00],\n",
       "       [  1.10550448e+00,   1.26389129e+00],\n",
       "       [  1.61152972e+00,   1.82347242e+00],\n",
       "       [  4.59534668e-01,   5.44982630e+00],\n",
       "       [ -5.38023054e-01,   3.01641891e+00],\n",
       "       [  1.67841499e+00,   6.09047389e-01],\n",
       "       [ -1.01214966e+00,   3.60254338e+00],\n",
       "       [  1.34195197e+00,   5.93573847e-01],\n",
       "       [  1.42811550e+00,   1.62435083e+00],\n",
       "       [  2.04505527e+00,   1.12515470e+00],\n",
       "       [  1.67280531e+00,   6.59300571e-01],\n",
       "       [ -1.35863899e+00,   2.32200809e+00],\n",
       "       [  1.13078931e+00,   9.35620856e-01],\n",
       "       [ -1.73896306e+00,   1.94799775e+00],\n",
       "       [ -3.40258925e-01,   8.16733925e+00],\n",
       "       [ -1.63793622e+00,   2.43329317e+00],\n",
       "       [ -1.68754414e+00,   2.24107546e+00],\n",
       "       [  2.43040639e+00,  -6.35709334e-02],\n",
       "       [ -1.37998039e+00,   7.18503804e+00],\n",
       "       [ -1.25245465e+00,   2.33911505e+00],\n",
       "       [ -2.39482483e+00,   3.39806103e+00],\n",
       "       [ -2.09183352e+00,   7.48142543e+00],\n",
       "       [  4.88382309e-01,   3.26801777e+00],\n",
       "       [ -5.39428614e-01,   7.45631776e+00],\n",
       "       [ -2.59201821e+00,   8.07635945e+00],\n",
       "       [ -1.04656513e+00,   2.96483837e+00],\n",
       "       [  1.25566754e+00,   3.38204112e+00],\n",
       "       [ -1.62150422e+00,   4.27191636e+00],\n",
       "       [  1.86922139e+00,   5.44132083e+00],\n",
       "       [ -1.76404140e+00,   2.22222995e+00],\n",
       "       [ -1.38181918e+00,   7.28761248e+00],\n",
       "       [  7.93137001e-03,   4.17614316e+00],\n",
       "       [ -1.10298500e+00,   7.30222786e+00],\n",
       "       [ -1.79351372e+00,   7.58086944e+00],\n",
       "       [ -1.51176949e+00,   7.94426307e+00],\n",
       "       [  9.59360742e-01,   4.56078645e+00],\n",
       "       [ -6.01337393e-01,   6.29994922e+00],\n",
       "       [  2.24592863e-01,   4.77028154e+00],\n",
       "       [  1.56724897e+00,   1.78090633e-02],\n",
       "       [ -1.03395259e+00,   2.92105785e+00],\n",
       "       [ -9.22268640e-01,   8.09888579e+00],\n",
       "       [ -1.88609638e+00,   2.24834407e+00],\n",
       "       [  1.86873582e+00,   9.56103760e-01],\n",
       "       [  1.10123507e+00,   4.88977075e+00],\n",
       "       [ -1.93213725e+00,   8.30643453e+00],\n",
       "       [  6.70478769e-01,   4.04094275e+00],\n",
       "       [  7.43873988e-01,   4.12240568e+00],\n",
       "       [  1.64003761e+00,   1.81948989e+00],\n",
       "       [  8.15468056e-01,   4.78526116e+00],\n",
       "       [ -2.63274574e+00,   2.63109786e+00],\n",
       "       [ -9.61076361e-01,   1.27407596e+00],\n",
       "       [  2.13979079e-01,   4.88542535e+00],\n",
       "       [  1.43472182e+00,   1.30662037e+00],\n",
       "       [  1.21387411e+00,   3.64795042e+00],\n",
       "       [  1.08272576e+00,   4.06271877e+00],\n",
       "       [ -1.22605234e+00,   8.29620146e+00],\n",
       "       [  1.48170052e+00,   6.90074595e-01],\n",
       "       [  1.89593761e+00,   5.18540259e+00],\n",
       "       [ -1.32356154e+00,   4.13050840e+00],\n",
       "       [ -1.14989863e+00,   7.89325283e+00],\n",
       "       [  2.46915842e+00,   1.67877140e+00],\n",
       "       [  2.31102276e+00,   1.30380848e+00],\n",
       "       [  5.72793810e-01,   4.08805543e+00],\n",
       "       [ -9.67794989e-01,   3.12186125e+00],\n",
       "       [  2.62492001e+00,   9.50194405e-01],\n",
       "       [  1.68353782e+00,   4.19583243e+00],\n",
       "       [ -2.22131717e+00,   2.73050691e+00],\n",
       "       [ -1.57846247e+00,   3.03445802e+00],\n",
       "       [  8.15155229e-02,   4.56742235e+00],\n",
       "       [  1.43289271e+00,   4.37679234e+00],\n",
       "       [  1.06269622e+00,   5.17635143e+00],\n",
       "       [  7.67522789e-01,   4.39759671e+00],\n",
       "       [  2.47019077e+00,   1.31451315e+00],\n",
       "       [ -1.73163168e+00,   7.16447286e+00],\n",
       "       [  3.47138300e-01,   3.45177657e+00],\n",
       "       [ -1.00140436e+00,   2.84881778e+00],\n",
       "       [  1.01618041e+00,   4.48527047e+00],\n",
       "       [  5.59529363e-01,   4.21400660e+00],\n",
       "       [ -2.11821046e+00,   2.03478126e+00],\n",
       "       [ -1.36219420e+00,   2.38333321e+00],\n",
       "       [ -2.78366586e+00,   2.99211541e+00],\n",
       "       [  1.65225163e+00,   3.65582842e+00],\n",
       "       [ -1.93960658e+00,   2.18943582e+00],\n",
       "       [ -1.81487687e+00,   7.97832190e+00],\n",
       "       [  1.20212540e+00,   3.64414685e+00],\n",
       "       [ -9.69200946e-01,   3.26721702e+00],\n",
       "       [  1.86985974e+00,  -1.07938624e-01],\n",
       "       [ -1.80701134e+00,   2.06773859e+00],\n",
       "       [  1.21767506e+00,   3.89290127e+00],\n",
       "       [ -1.48368917e+00,   6.00777418e+00],\n",
       "       [ -1.56387985e+00,   2.85349910e+00],\n",
       "       [ -6.86210297e-01,   8.68285664e+00],\n",
       "       [  1.07627418e+00,   4.68480619e+00],\n",
       "       [ -9.75986627e-01,   6.73761577e+00],\n",
       "       [  1.37964693e+00,   4.54826443e+00],\n",
       "       [ -1.64129611e+00,   2.68097255e+00],\n",
       "       [ -1.84892963e-03,   4.58145668e+00],\n",
       "       [  1.71444449e+00,   5.02521524e+00],\n",
       "       [ -1.40524304e+00,   7.72611315e+00],\n",
       "       [ -7.08184904e-01,   2.50421275e+00],\n",
       "       [ -8.85798374e-01,   2.64585078e+00],\n",
       "       [  1.98436909e+00,   4.89556738e-01],\n",
       "       [  2.95195825e+00,  -3.44327355e-01],\n",
       "       [  4.31891060e-01,   4.33495456e+00],\n",
       "       [ -1.86621694e+00,   7.62549400e+00],\n",
       "       [  2.52706430e+00,   6.17812202e-01],\n",
       "       [  2.04067185e+00,   4.54845114e-01],\n",
       "       [ -2.58043836e+00,   3.18844294e+00],\n",
       "       [  1.61990909e+00,   6.76452867e-02],\n",
       "       [ -2.58802708e+00,   3.13117134e+00],\n",
       "       [  4.43598630e-01,   3.11530945e+00],\n",
       "       [ -4.56773649e-01,   7.30600872e+00],\n",
       "       [ -1.12867566e+00,   7.80509789e+00],\n",
       "       [  2.13003529e+00,   5.19209620e+00],\n",
       "       [  1.00372519e+00,   4.19147702e+00],\n",
       "       [ -1.39346767e+00,   8.74641672e+00],\n",
       "       [  7.28098690e-01,   3.85531444e+00],\n",
       "       [  8.93499638e-01,   1.01093082e+00],\n",
       "       [ -1.10782972e+00,   2.92014479e+00],\n",
       "       [  7.89338559e-01,   4.33748653e+00],\n",
       "       [  1.97553917e+00,   7.18989132e-01],\n",
       "       [ -1.24902582e+00,   3.08533972e+00],\n",
       "       [ -1.07768797e+00,   8.88106128e+00],\n",
       "       [ -1.86849125e+00,   3.07982487e+00],\n",
       "       [  2.76808540e+00,   1.08782923e+00],\n",
       "       [  2.77180174e-01,   4.84428322e+00],\n",
       "       [  3.41085289e+00,   8.72309369e-01],\n",
       "       [ -1.58084155e+00,   7.55307742e+00],\n",
       "       [ -1.53027550e+00,   7.70542113e+00],\n",
       "       [ -1.82455840e+00,   7.35958960e+00],\n",
       "       [ -1.68568257e+00,   7.95339446e+00],\n",
       "       [ -1.65104622e+00,   3.44598961e+00],\n",
       "       [ -1.30440901e+00,   3.00311934e+00],\n",
       "       [ -7.30698168e-01,   6.24208856e+00],\n",
       "       [  2.40615694e+00,   4.87047502e+00],\n",
       "       [ -1.53631328e+00,   3.01443916e+00],\n",
       "       [  1.48859977e+00,   6.51633844e-01],\n",
       "       [  5.14320434e-01,   4.62733684e+00],\n",
       "       [ -1.81469750e+00,   3.29009724e+00],\n",
       "       [ -1.93731055e+00,   3.91361274e+00],\n",
       "       [ -6.14907097e-01,   3.94963585e+00],\n",
       "       [  2.03169783e+00,   1.96807561e-01],\n",
       "       [  2.14917144e+00,   1.03697228e+00],\n",
       "       [ -1.36999388e+00,   7.76953035e+00],\n",
       "       [  9.14338767e-01,   4.55014643e+00],\n",
       "       [  3.33818506e-01,   4.93645836e+00],\n",
       "       [ -2.15968109e+00,   3.41003096e+00],\n",
       "       [  1.36678633e+00,   6.34971633e-01],\n",
       "       [ -5.71099336e-01,   8.13306058e+00],\n",
       "       [ -1.00552592e+00,   3.08400540e+00],\n",
       "       [  1.49493180e+00,   3.85848832e+00],\n",
       "       [ -5.90447667e-01,   7.69493053e+00],\n",
       "       [  7.15177948e-01,   5.41334556e+00],\n",
       "       [  2.11390250e+00,   1.24743587e+00],\n",
       "       [  1.20083098e+00,   6.01671730e-01],\n",
       "       [ -2.54576750e+00,   3.15025055e+00],\n",
       "       [ -1.95866665e+00,   2.43008647e+00],\n",
       "       [  2.33812285e+00,   3.43116792e+00],\n",
       "       [  3.35320909e+00,   1.69958043e+00],\n",
       "       [  1.84287117e+00,   7.26928839e-02],\n",
       "       [  1.32000621e+00,   1.40428145e+00],\n",
       "       [  2.09680545e+00,   4.84741412e+00],\n",
       "       [ -1.24307904e+00,   8.15166254e+00],\n",
       "       [ -1.85908090e+00,   7.78874716e+00],\n",
       "       [  2.74666646e+00,   1.54543482e+00],\n",
       "       [  2.60778282e+00,   1.08890025e+00],\n",
       "       [  1.65991049e+00,   3.56289184e+00],\n",
       "       [  2.35151259e+00,   8.28001297e-01],\n",
       "       [  2.22322228e+00,   8.38773426e-01],\n",
       "       [  3.22881491e+00,   1.13171965e+00],\n",
       "       [ -1.55876720e+00,   7.24816210e+00],\n",
       "       [ -6.46956784e-01,   3.42941343e+00],\n",
       "       [ -1.32688818e+00,   8.51530794e+00],\n",
       "       [  9.17198564e-01,   3.90570036e+00],\n",
       "       [  2.29469533e+00,  -7.65891994e-01],\n",
       "       [  1.81559810e+00,   1.11969719e+00],\n",
       "       [ -1.12016775e+00,   7.11031582e+00],\n",
       "       [ -1.65507124e+00,   8.61416749e+00],\n",
       "       [ -1.27567815e+00,   7.96776461e+00],\n",
       "       [  1.97369770e+00,   1.57979848e+00],\n",
       "       [  2.51834185e+00,   1.39176615e+00],\n",
       "       [  4.38990142e-01,   4.53592883e+00],\n",
       "       [  3.69478657e-01,   7.79110522e+00],\n",
       "       [ -1.79145759e+00,   2.74966896e+00]])"
      ]
     },
     "execution_count": 62,
     "metadata": {},
     "output_type": "execute_result"
    },
    {
     "data": {
      "image/png": "[encoded data removed]",
      "text/plain": [
       "<matplotlib.figure.Figure at 0xd8ced68>"
      ]
     },
     "metadata": {},
     "output_type": "display_data"
    }
   ],
   "source": [
    "# Generate 2-d samples which can be clustered nicely\n",
    "from sklearn.datasets.samples_generator import make_blobs\n",
    "X, _ = make_blobs(n_samples=300, centers=4,\n",
    "                       cluster_std=0.60, random_state=0)\n",
    "plt.scatter(X[:, 0], X[:, 1], s=50);\n",
    "X"
   ]
  },
  {
   "cell_type": "code",
   "execution_count": 61,
   "metadata": {},
   "outputs": [
    {
     "data": {
      "text/plain": [
       "array([[ 1.75644805,  2.05538289],\n",
       "       [ 1.32222457,  4.17880807],\n",
       "       [-2.41933824,  7.43952498],\n",
       "       [ 2.74666646,  1.54543482]])"
      ]
     },
     "execution_count": 61,
     "metadata": {},
     "output_type": "execute_result"
    }
   ],
   "source": [
    "# Randomly choose initial 4  clusters (centroids)\n",
    "n_clusters = 4\n",
    "i = np.random.choice(X.shape[0], n_clusters, replace=False)\n",
    "Y = X[i]\n",
    "Y"
   ]
  },
  {
   "cell_type": "code",
   "execution_count": 60,
   "metadata": {},
   "outputs": [
    {
     "name": "stdout",
     "output_type": "stream",
     "text": [
      "[ 11  80 143 114]\n"
     ]
    },
    {
     "data": {
      "image/png": "[encoded data removed]",
      "text/plain": [
       "<matplotlib.figure.Figure at 0xda16e80>"
      ]
     },
     "metadata": {},
     "output_type": "display_data"
    }
   ],
   "source": [
    "while True:\n",
    "    # Assign labels based on closest centroids\n",
    "    labels = pairwise_distances_argmin(X, Y)\n",
    "\n",
    "    # Update centroids by averaging data points assigned to it \n",
    "    Y_new = np.array([X[labels == i].mean(0)\n",
    "                            for i in range(n_clusters)])\n",
    "\n",
    "    # Check for convergence\n",
    "    if np.all(Y == Y_new):\n",
    "        break\n",
    "    Y = Y_new\n",
    "\n",
    "plt.scatter(X[:, 0], X[:, 1], c=labels,\n",
    "            s=50, cmap='viridis');"
   ]
  },
  {
   "cell_type": "markdown",
   "metadata": {},
   "source": [
    "### Using Scikit Package"
   ]
  },
  {
   "cell_type": "code",
   "execution_count": 52,
   "metadata": {
    "collapsed": true
   },
   "outputs": [],
   "source": [
    "from sklearn.cluster import KMeans\n",
    "kmeans = KMeans(n_clusters=4)\n",
    "kmeans.fit(X)\n",
    "labels = kmeans.predict(X)"
   ]
  },
  {
   "cell_type": "code",
   "execution_count": 53,
   "metadata": {},
   "outputs": [
    {
     "data": {
      "image/png": "[encoded data removed]",
      "text/plain": [
       "<matplotlib.figure.Figure at 0xd909240>"
      ]
     },
     "metadata": {},
     "output_type": "display_data"
    }
   ],
   "source": [
    "plt.scatter(X[:, 0], X[:, 1], c=labels, s=50, cmap='viridis')\n",
    "\n",
    "centers = kmeans.cluster_centers_\n",
    "plt.scatter(centers[:, 0], centers[:, 1], c='black', s=200, alpha=0.5);"
   ]
  },
  {
   "cell_type": "code",
   "execution_count": 54,
   "metadata": {
    "collapsed": true
   },
   "outputs": [],
   "source": [
    "import seaborn as sns\n",
    "from sklearn import datasets"
   ]
  },
  {
   "cell_type": "code",
   "execution_count": 55,
   "metadata": {},
   "outputs": [
    {
     "data": {
      "text/html": [
       "<div>\n",
       "<style>\n",
       "    .dataframe thead tr:only-child th {\n",
       "        text-align: right;\n",
       "    }\n",
       "\n",
       "    .dataframe thead th {\n",
       "        text-align: left;\n",
       "    }\n",
       "\n",
       "    .dataframe tbody tr th {\n",
       "        vertical-align: top;\n",
       "    }\n",
       "</style>\n",
       "<table border=\"1\" class=\"dataframe\">\n",
       "  <thead>\n",
       "    <tr style=\"text-align: right;\">\n",
       "      <th></th>\n",
       "      <th>sepal_length</th>\n",
       "      <th>sepal_width</th>\n",
       "      <th>petal_length</th>\n",
       "      <th>petal_width</th>\n",
       "      <th>species</th>\n",
       "    </tr>\n",
       "  </thead>\n",
       "  <tbody>\n",
       "    <tr>\n",
       "      <th>0</th>\n",
       "      <td>5.1</td>\n",
       "      <td>3.5</td>\n",
       "      <td>1.4</td>\n",
       "      <td>0.2</td>\n",
       "      <td>setosa</td>\n",
       "    </tr>\n",
       "    <tr>\n",
       "      <th>1</th>\n",
       "      <td>4.9</td>\n",
       "      <td>3.0</td>\n",
       "      <td>1.4</td>\n",
       "      <td>0.2</td>\n",
       "      <td>setosa</td>\n",
       "    </tr>\n",
       "    <tr>\n",
       "      <th>2</th>\n",
       "      <td>4.7</td>\n",
       "      <td>3.2</td>\n",
       "      <td>1.3</td>\n",
       "      <td>0.2</td>\n",
       "      <td>setosa</td>\n",
       "    </tr>\n",
       "    <tr>\n",
       "      <th>3</th>\n",
       "      <td>4.6</td>\n",
       "      <td>3.1</td>\n",
       "      <td>1.5</td>\n",
       "      <td>0.2</td>\n",
       "      <td>setosa</td>\n",
       "    </tr>\n",
       "    <tr>\n",
       "      <th>4</th>\n",
       "      <td>5.0</td>\n",
       "      <td>3.6</td>\n",
       "      <td>1.4</td>\n",
       "      <td>0.2</td>\n",
       "      <td>setosa</td>\n",
       "    </tr>\n",
       "  </tbody>\n",
       "</table>\n",
       "</div>"
      ],
      "text/plain": [
       "   sepal_length  sepal_width  petal_length  petal_width species\n",
       "0           5.1          3.5           1.4          0.2  setosa\n",
       "1           4.9          3.0           1.4          0.2  setosa\n",
       "2           4.7          3.2           1.3          0.2  setosa\n",
       "3           4.6          3.1           1.5          0.2  setosa\n",
       "4           5.0          3.6           1.4          0.2  setosa"
      ]
     },
     "execution_count": 55,
     "metadata": {},
     "output_type": "execute_result"
    }
   ],
   "source": [
    "iris = sns.load_dataset(\"iris\")\n",
    "iris.head()"
   ]
  },
  {
   "cell_type": "code",
   "execution_count": 56,
   "metadata": {},
   "outputs": [
    {
     "data": {
      "text/html": [
       "<div>\n",
       "<style>\n",
       "    .dataframe thead tr:only-child th {\n",
       "        text-align: right;\n",
       "    }\n",
       "\n",
       "    .dataframe thead th {\n",
       "        text-align: left;\n",
       "    }\n",
       "\n",
       "    .dataframe tbody tr th {\n",
       "        vertical-align: top;\n",
       "    }\n",
       "</style>\n",
       "<table border=\"1\" class=\"dataframe\">\n",
       "  <thead>\n",
       "    <tr style=\"text-align: right;\">\n",
       "      <th></th>\n",
       "      <th>sepal_length</th>\n",
       "      <th>sepal_width</th>\n",
       "      <th>petal_length</th>\n",
       "      <th>petal_width</th>\n",
       "    </tr>\n",
       "  </thead>\n",
       "  <tbody>\n",
       "    <tr>\n",
       "      <th>0</th>\n",
       "      <td>5.1</td>\n",
       "      <td>3.5</td>\n",
       "      <td>1.4</td>\n",
       "      <td>0.2</td>\n",
       "    </tr>\n",
       "    <tr>\n",
       "      <th>1</th>\n",
       "      <td>4.9</td>\n",
       "      <td>3.0</td>\n",
       "      <td>1.4</td>\n",
       "      <td>0.2</td>\n",
       "    </tr>\n",
       "    <tr>\n",
       "      <th>2</th>\n",
       "      <td>4.7</td>\n",
       "      <td>3.2</td>\n",
       "      <td>1.3</td>\n",
       "      <td>0.2</td>\n",
       "    </tr>\n",
       "    <tr>\n",
       "      <th>3</th>\n",
       "      <td>4.6</td>\n",
       "      <td>3.1</td>\n",
       "      <td>1.5</td>\n",
       "      <td>0.2</td>\n",
       "    </tr>\n",
       "    <tr>\n",
       "      <th>4</th>\n",
       "      <td>5.0</td>\n",
       "      <td>3.6</td>\n",
       "      <td>1.4</td>\n",
       "      <td>0.2</td>\n",
       "    </tr>\n",
       "  </tbody>\n",
       "</table>\n",
       "</div>"
      ],
      "text/plain": [
       "   sepal_length  sepal_width  petal_length  petal_width\n",
       "0           5.1          3.5           1.4          0.2\n",
       "1           4.9          3.0           1.4          0.2\n",
       "2           4.7          3.2           1.3          0.2\n",
       "3           4.6          3.1           1.5          0.2\n",
       "4           5.0          3.6           1.4          0.2"
      ]
     },
     "execution_count": 56,
     "metadata": {},
     "output_type": "execute_result"
    }
   ],
   "source": [
    "irisn = iris.drop(['species'], axis=1)\n",
    "irisn.head()"
   ]
  },
  {
   "cell_type": "code",
   "execution_count": 63,
   "metadata": {},
   "outputs": [
    {
     "data": {
      "text/plain": [
       "array([[ 5.1,  3.5,  1.4,  0.2],\n",
       "       [ 4.9,  3. ,  1.4,  0.2],\n",
       "       [ 4.7,  3.2,  1.3,  0.2],\n",
       "       [ 4.6,  3.1,  1.5,  0.2],\n",
       "       [ 5. ,  3.6,  1.4,  0.2],\n",
       "       [ 5.4,  3.9,  1.7,  0.4],\n",
       "       [ 4.6,  3.4,  1.4,  0.3],\n",
       "       [ 5. ,  3.4,  1.5,  0.2],\n",
       "       [ 4.4,  2.9,  1.4,  0.2],\n",
       "       [ 4.9,  3.1,  1.5,  0.1]])"
      ]
     },
     "execution_count": 63,
     "metadata": {},
     "output_type": "execute_result"
    }
   ],
   "source": [
    "X = irisn.as_matrix()\n",
    "X[0:10]"
   ]
  },
  {
   "cell_type": "markdown",
   "metadata": {},
   "source": [
    "Exercise: Repeat the clustering algorithm for Iris 4-d dataset for k = 3. "
   ]
  },
  {
   "cell_type": "code",
   "execution_count": 64,
   "metadata": {},
   "outputs": [
    {
     "data": {
      "image/png": "[encoded data removed]",
      "text/plain": [
       "<matplotlib.figure.Figure at 0xd9fef60>"
      ]
     },
     "metadata": {},
     "output_type": "display_data"
    }
   ],
   "source": [
    "kmeans = KMeans(n_clusters=3)\n",
    "kmeans.fit(X)\n",
    "labels = kmeans.predict(X)\n",
    "plt.scatter(X[:, 0], X[:, 1], c=labels, s=50, cmap='viridis')\n",
    "\n",
    "centers = kmeans.cluster_centers_\n",
    "plt.scatter(centers[:, 0], centers[:, 1], c='black', s=200, alpha=0.5);"
   ]
  },
  {
   "cell_type": "code",
   "execution_count": null,
   "metadata": {
    "collapsed": true
   },
   "outputs": [],
   "source": []
  }
 ],
 "metadata": {
  "kernelspec": {
   "display_name": "Python 3",
   "language": "python",
   "name": "python3"
  },
  "language_info": {
   "codemirror_mode": {
    "name": "ipython",
    "version": 3
   },
   "file_extension": ".py",
   "mimetype": "text/x-python",
   "name": "python",
   "nbconvert_exporter": "python",
   "pygments_lexer": "ipython3",
   "version": "3.6.3"
  }
 },
 "nbformat": 4,
 "nbformat_minor": 2
}
