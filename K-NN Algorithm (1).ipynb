{
 "cells": [
  {
   "cell_type": "markdown",
   "metadata": {},
   "source": [
    "### Reference: <br>\n",
    "Data science basics<br>\n",
    "Doing Data Science<br>\n",
    "By: Cathy O'Neil; Rachel Schutt<br>\n",
    "Publisher: O'Reilly Media, Inc.<br>\n",
    "Pub. Date: October 24, 2013<br>\n",
    "Print ISBN-13: 978-1-4493-5865-5<br>\n",
    "Chapter 3 <br>\n",
    "http://proquest.safaribooksonline.com.proxy.lib.odu.edu/book/databases/9781449363871\n",
    "\n",
    "http://scikit-learn.org/stable/modules/cross_validation.html"
   ]
  },
  {
   "cell_type": "markdown",
   "metadata": {},
   "source": [
    "### K-NN\n",
    "\n",
    "\"K-NN is an algorithm that can be used when you have a bunch of objects that have been classified or labeled in some way, and other similar objects that haven’t gotten classified or labeled yet, and you want a way to automatically label them.\"\n",
    "\n",
    "The key idea behind K-NN is that if we have a new object to be classified, we look at the distance of the new object, using some metric, to  all the already classified objects. Next sort these distances, and select the \"k\" closest (say k=5) objects to the new object. We look at how these 5 objects has been classified, and classify the new object based on that (typicall by voting of the 5 nearest neighbor). \n",
    "\n",
    "The two questions are: (a) what similarity/distance metric to use, and (b) what is a good value of k. The answer to both depends on the application data. The parameter k is also referred as a hyperparameter which requires tuning. \n",
    "\n",
    "We now first outline steps involved in a typical machine learning algorithm without any hyperparameter, and then we discuss a typical machine learning algorithm that requires hyperparameter tuning consists of the following steps.\n",
    "\n",
    "\n",
    "\n",
    "As such for this algorithm there is no learning involved, all the computation is happening when we are trying to classify a new object. However, most efficent implementation try to preprocess the esisting clasiffied data so that the query for k-nearest neighbor on a new object can be executed efficiently. \n",
    "\n",
    "\n",
    "We now first outline steps  in a typical machine learning algorithm without any hyper parameter.\n",
    "<ul>\n",
    "<li> Split the data into two sets: training set and test set. This could be 60/40, 80/20, etc.\n",
    "<li> Train/Fit  the model using training data.\n",
    "<li>  Evaluate the ML algorithm accuracy  on test data. This is a measure what you can expect the trained algorithm to perform on the new data.\n",
    "</ul>\n",
    "\n",
    "A machine learning algorithm with a hyper parameter consists of following steps.\n",
    "<ul>\n",
    "<li> Split the data into two sets: training set and test set. This could be 60/40, 80/20, etc.\n",
    "<li> Use training data to tune the hyper parameter\n",
    "       <ul>\n",
    "               <li> Split the training data into a a slightly smaller training set and validation set (80/20). When training data is small we can use cross-validation approach.\n",
    "               <li> Use the two sets to tune the hyper parameter.  That is, use different values of hyper parameter and evaluate the accuracy on the validation set for the ML algorithm that has been trained using the slightly smaller training set. The value of hyper parameter that results in the best accuracy is selected for further use.\n",
    "       </ul>\n",
    "<li> Train/Fit  the model using  the full training data and the value of hyper parameter selected above.\n",
    "\n",
    "<li>  Evaluate the ML algorithm accuracy on test data. This is a measure of accuracy what you can expect the trained algorithm to perform on the new data.\n",
    "\n",
    "</ul> \n",
    "\n",
    "\n",
    "For applying these steps to K-NN, we first need to decide on the similarity or distance metric. If the variables (features) have the same scale, a simple metric to use is Euclidean distance. In our example, we will use this metric. \n"
   ]
  },
  {
   "cell_type": "code",
   "execution_count": 182,
   "metadata": {},
   "outputs": [],
   "source": [
    "import seaborn as sns\n",
    "import numpy as np\n",
    "import pandas as pd\n",
    "from pandas.plotting import scatter_matrix\n",
    "from sklearn import datasets\n",
    "import matplotlib.pyplot \n",
    "%matplotlib inline\n",
    "import matplotlib.pyplot as plt"
   ]
  },
  {
   "cell_type": "code",
   "execution_count": 183,
   "metadata": {},
   "outputs": [
    {
     "data": {
      "text/html": [
       "<div>\n",
       "<style>\n",
       "    .dataframe thead tr:only-child th {\n",
       "        text-align: right;\n",
       "    }\n",
       "\n",
       "    .dataframe thead th {\n",
       "        text-align: left;\n",
       "    }\n",
       "\n",
       "    .dataframe tbody tr th {\n",
       "        vertical-align: top;\n",
       "    }\n",
       "</style>\n",
       "<table border=\"1\" class=\"dataframe\">\n",
       "  <thead>\n",
       "    <tr style=\"text-align: right;\">\n",
       "      <th></th>\n",
       "      <th>sepal_length</th>\n",
       "      <th>sepal_width</th>\n",
       "      <th>petal_length</th>\n",
       "      <th>petal_width</th>\n",
       "      <th>species</th>\n",
       "    </tr>\n",
       "  </thead>\n",
       "  <tbody>\n",
       "    <tr>\n",
       "      <th>0</th>\n",
       "      <td>5.1</td>\n",
       "      <td>3.5</td>\n",
       "      <td>1.4</td>\n",
       "      <td>0.2</td>\n",
       "      <td>setosa</td>\n",
       "    </tr>\n",
       "    <tr>\n",
       "      <th>1</th>\n",
       "      <td>4.9</td>\n",
       "      <td>3.0</td>\n",
       "      <td>1.4</td>\n",
       "      <td>0.2</td>\n",
       "      <td>setosa</td>\n",
       "    </tr>\n",
       "    <tr>\n",
       "      <th>2</th>\n",
       "      <td>4.7</td>\n",
       "      <td>3.2</td>\n",
       "      <td>1.3</td>\n",
       "      <td>0.2</td>\n",
       "      <td>setosa</td>\n",
       "    </tr>\n",
       "    <tr>\n",
       "      <th>3</th>\n",
       "      <td>4.6</td>\n",
       "      <td>3.1</td>\n",
       "      <td>1.5</td>\n",
       "      <td>0.2</td>\n",
       "      <td>setosa</td>\n",
       "    </tr>\n",
       "    <tr>\n",
       "      <th>4</th>\n",
       "      <td>5.0</td>\n",
       "      <td>3.6</td>\n",
       "      <td>1.4</td>\n",
       "      <td>0.2</td>\n",
       "      <td>setosa</td>\n",
       "    </tr>\n",
       "  </tbody>\n",
       "</table>\n",
       "</div>"
      ],
      "text/plain": [
       "   sepal_length  sepal_width  petal_length  petal_width species\n",
       "0           5.1          3.5           1.4          0.2  setosa\n",
       "1           4.9          3.0           1.4          0.2  setosa\n",
       "2           4.7          3.2           1.3          0.2  setosa\n",
       "3           4.6          3.1           1.5          0.2  setosa\n",
       "4           5.0          3.6           1.4          0.2  setosa"
      ]
     },
     "execution_count": 183,
     "metadata": {},
     "output_type": "execute_result"
    }
   ],
   "source": [
    "iris = sns.load_dataset(\"iris\")\n",
    "iris.head()"
   ]
  },
  {
   "cell_type": "code",
   "execution_count": 184,
   "metadata": {},
   "outputs": [
    {
     "data": {
      "text/plain": [
       "<seaborn.axisgrid.FacetGrid at 0xe8ccf98>"
      ]
     },
     "execution_count": 184,
     "metadata": {},
     "output_type": "execute_result"
    },
    {
     "data": {
      "image/png": "[encoded data removed]",
      "text/plain": [
       "<matplotlib.figure.Figure at 0xe8ccf28>"
      ]
     },
     "metadata": {},
     "output_type": "display_data"
    }
   ],
   "source": [
    "sns.lmplot(\"petal_length\", \"petal_width\", data=iris, hue=\"species\", fit_reg=False)"
   ]
  },
  {
   "cell_type": "markdown",
   "metadata": {},
   "source": [
    "IRIS dataset is a good candidate for K-NN approach. We will try this approach using all the four features."
   ]
  },
  {
   "cell_type": "code",
   "execution_count": 185,
   "metadata": {},
   "outputs": [],
   "source": [
    "y = np.array(iris.pop('species')) # take species column out as a separate column"
   ]
  },
  {
   "cell_type": "code",
   "execution_count": 186,
   "metadata": {},
   "outputs": [
    {
     "data": {
      "text/plain": [
       "array(['setosa', 'setosa', 'setosa', 'setosa', 'setosa'], dtype=object)"
      ]
     },
     "execution_count": 186,
     "metadata": {},
     "output_type": "execute_result"
    }
   ],
   "source": [
    "y[0:5]"
   ]
  },
  {
   "cell_type": "code",
   "execution_count": 187,
   "metadata": {},
   "outputs": [],
   "source": [
    "# Use Euclidean distance \n",
    "irisa = iris.as_matrix()\n"
   ]
  },
  {
   "cell_type": "code",
   "execution_count": 188,
   "metadata": {},
   "outputs": [
    {
     "name": "stdout",
     "output_type": "stream",
     "text": [
      "[ 4.7  3.2  1.3  0.2]\n",
      "[ 5.   3.6  1.4  0.2]\n"
     ]
    }
   ],
   "source": [
    "# let us say we want to find Euclidean distance between row 2 and row 4\n",
    "p1 = irisa[2]\n",
    "p2 = irisa[4]\n",
    "print (p1)\n",
    "print (p2)"
   ]
  },
  {
   "cell_type": "code",
   "execution_count": 189,
   "metadata": {},
   "outputs": [
    {
     "name": "stdout",
     "output_type": "stream",
     "text": [
      "0.509901951359\n"
     ]
    }
   ],
   "source": [
    "dist = (p1[0]-p2[0])*(p1[0]-p2[0]) + (p1[1]-p2[1])*(p1[1]-p2[1]) + (p1[2]-p2[2])*(p1[2]-p2[2]) + (p1[3]-p2[3])*(p1[3]-p2[3])\n",
    "dist = np.sqrt(dist)\n",
    "print (dist)"
   ]
  },
  {
   "cell_type": "code",
   "execution_count": 190,
   "metadata": {},
   "outputs": [
    {
     "name": "stdout",
     "output_type": "stream",
     "text": [
      "0.509901951359\n"
     ]
    }
   ],
   "source": [
    "dist = np.linalg.norm(p1-p2)\n",
    "print (dist)"
   ]
  },
  {
   "cell_type": "code",
   "execution_count": 191,
   "metadata": {
    "collapsed": true
   },
   "outputs": [],
   "source": [
    "# Split data into training and test\n",
    "from sklearn.model_selection import train_test_split"
   ]
  },
  {
   "cell_type": "code",
   "execution_count": 192,
   "metadata": {
    "collapsed": true
   },
   "outputs": [],
   "source": [
    "X_train, X_test, y_train, y_test = train_test_split(\n",
    "irisa, y, test_size=0.2, random_state=42)"
   ]
  },
  {
   "cell_type": "code",
   "execution_count": 193,
   "metadata": {},
   "outputs": [
    {
     "name": "stdout",
     "output_type": "stream",
     "text": [
      "(150, 4)\n",
      "(120, 4)\n",
      "(30, 4)\n"
     ]
    }
   ],
   "source": [
    "print(np.shape(irisa))\n",
    "print (np.shape(X_train))\n",
    "print (np.shape(X_test))"
   ]
  },
  {
   "cell_type": "code",
   "execution_count": 194,
   "metadata": {},
   "outputs": [
    {
     "name": "stdout",
     "output_type": "stream",
     "text": [
      "(120,)\n",
      "(30,)\n"
     ]
    }
   ],
   "source": [
    "print (np.shape(y_train))\n",
    "print (np.shape(y_test))"
   ]
  },
  {
   "cell_type": "code",
   "execution_count": 195,
   "metadata": {},
   "outputs": [
    {
     "name": "stdout",
     "output_type": "stream",
     "text": [
      "(120,)\n"
     ]
    }
   ],
   "source": [
    "# Let us take first sample from the test set and see how we apply K-NN to determine its class\n",
    "pt = X_test[0]\n",
    "dist = np.linalg.norm(pt-X_train, axis = 1)\n",
    "print (np.shape(dist))"
   ]
  },
  {
   "cell_type": "code",
   "execution_count": 196,
   "metadata": {
    "collapsed": true
   },
   "outputs": [],
   "source": [
    "# use numpy argpartition to find k smallest elements in dist"
   ]
  },
  {
   "cell_type": "code",
   "execution_count": 197,
   "metadata": {},
   "outputs": [
    {
     "data": {
      "text/plain": [
       "array([11, 12, 15, 20])"
      ]
     },
     "execution_count": 197,
     "metadata": {},
     "output_type": "execute_result"
    }
   ],
   "source": [
    "k = 4\n",
    "x = np.array([31, 40, 20, 11, 12, 15, 33, 43])\n",
    "ind = np.argpartition(x, k-1)[:k]\n",
    "x[ind]"
   ]
  },
  {
   "cell_type": "code",
   "execution_count": 198,
   "metadata": {},
   "outputs": [
    {
     "name": "stdout",
     "output_type": "stream",
     "text": [
      "[90 79 39 73 80]\n"
     ]
    }
   ],
   "source": [
    "k = 5\n",
    "minkind = np.argpartition(dist, k-1)[:k]\n",
    "print (minkind)"
   ]
  },
  {
   "cell_type": "code",
   "execution_count": 199,
   "metadata": {},
   "outputs": [
    {
     "name": "stdout",
     "output_type": "stream",
     "text": [
      "[ 0.3         0.2236068   0.43588989  0.50990195  0.50990195]\n"
     ]
    },
    {
     "data": {
      "text/plain": [
       "0.22360679774997896"
      ]
     },
     "execution_count": 199,
     "metadata": {},
     "output_type": "execute_result"
    }
   ],
   "source": [
    "print (dist[minkind])\n",
    "np.min(dist)"
   ]
  },
  {
   "cell_type": "code",
   "execution_count": 200,
   "metadata": {},
   "outputs": [
    {
     "name": "stdout",
     "output_type": "stream",
     "text": [
      "['versicolor' 'versicolor' 'versicolor' 'versicolor' 'versicolor']\n"
     ]
    }
   ],
   "source": [
    "nn5 = y_train[minkind]\n",
    "print(nn5)"
   ]
  },
  {
   "cell_type": "code",
   "execution_count": 201,
   "metadata": {
    "collapsed": true
   },
   "outputs": [],
   "source": [
    "# count the class that occurs most\n",
    "from collections import Counter\n",
    "ctnn5 = Counter(nn5)"
   ]
  },
  {
   "cell_type": "code",
   "execution_count": 202,
   "metadata": {
    "collapsed": true
   },
   "outputs": [],
   "source": [
    "pred = ctnn5.most_common(1)[0][0]"
   ]
  },
  {
   "cell_type": "code",
   "execution_count": 203,
   "metadata": {},
   "outputs": [
    {
     "data": {
      "text/plain": [
       "'versicolor'"
      ]
     },
     "execution_count": 203,
     "metadata": {},
     "output_type": "execute_result"
    }
   ],
   "source": [
    "pred"
   ]
  },
  {
   "cell_type": "code",
   "execution_count": 204,
   "metadata": {},
   "outputs": [
    {
     "data": {
      "text/plain": [
       "'versicolor'"
      ]
     },
     "execution_count": 204,
     "metadata": {},
     "output_type": "execute_result"
    }
   ],
   "source": [
    "y_test[0] # prediction matches the test label"
   ]
  },
  {
   "cell_type": "markdown",
   "metadata": {},
   "source": [
    "Exercise: Repeat the above computation for predicting first test sample label for  IRIS data set with only two features petal_length and petal_width instead of using all the four features. Does the label for the first test sample matches with the true value?"
   ]
  },
  {
   "cell_type": "markdown",
   "metadata": {},
   "source": [
    "Let us do this in the loop for all the test data and compute the accuracy with k = 5"
   ]
  },
  {
   "cell_type": "code",
   "execution_count": 205,
   "metadata": {},
   "outputs": [
    {
     "name": "stdout",
     "output_type": "stream",
     "text": [
      "versicolor\n",
      "versicolor\n"
     ]
    }
   ],
   "source": [
    "#for the first test\n",
    "iris = sns.load_dataset(\"iris\")\n",
    "iris.pop('sepal_length')\n",
    "iris.pop('sepal_width')\n",
    "y = np.array(iris.pop('species'))\n",
    "\n",
    "irisa = iris.as_matrix()\n",
    "X_train, X_test, y_train, y_test = train_test_split(\n",
    "irisa, y, test_size=0.2, random_state=42)\n",
    "pt = X_test[0]\n",
    "dist = np.linalg.norm(pt-X_train, axis = 1)\n",
    "k = 5\n",
    "minkind = np.argpartition(dist, k-1)[:k]\n",
    "#print (minkind)\n",
    "nn5 = y_train[minkind]\n",
    "ctnn5 = Counter(nn5)\n",
    "pred = ctnn5.most_common(1)[0][0]\n",
    "print(pred)\n",
    "print(y_test[0])"
   ]
  },
  {
   "cell_type": "code",
   "execution_count": 206,
   "metadata": {},
   "outputs": [
    {
     "data": {
      "text/plain": [
       "(30,)"
      ]
     },
     "execution_count": 206,
     "metadata": {},
     "output_type": "execute_result"
    }
   ],
   "source": [
    "m = len(y_test)\n",
    "pred = np.empty(m, dtype=object)\n",
    "np.shape(pred)"
   ]
  },
  {
   "cell_type": "code",
   "execution_count": 207,
   "metadata": {
    "collapsed": true
   },
   "outputs": [],
   "source": [
    "for i in range(m):\n",
    "    pt = X_test[i]\n",
    "    dist = np.linalg.norm(pt-X_train, axis = 1)\n",
    "    minkind = np.argpartition(dist, k-1)[:k]\n",
    "    nn5 = y_train[minkind]\n",
    "    ctnn5 = Counter(nn5)\n",
    "    pred[i] = ctnn5.most_common(1)[0][0]  \n",
    "    "
   ]
  },
  {
   "cell_type": "code",
   "execution_count": 208,
   "metadata": {},
   "outputs": [
    {
     "data": {
      "text/plain": [
       "array(['versicolor', 'setosa', 'virginica', 'versicolor', 'versicolor',\n",
       "       'setosa', 'versicolor', 'virginica', 'versicolor', 'versicolor',\n",
       "       'virginica', 'setosa', 'setosa', 'setosa', 'setosa', 'versicolor',\n",
       "       'virginica', 'versicolor', 'versicolor', 'virginica', 'setosa',\n",
       "       'virginica', 'setosa', 'virginica', 'virginica', 'virginica',\n",
       "       'virginica', 'virginica', 'setosa', 'setosa'], dtype=object)"
      ]
     },
     "execution_count": 208,
     "metadata": {},
     "output_type": "execute_result"
    }
   ],
   "source": [
    "pred\n"
   ]
  },
  {
   "cell_type": "code",
   "execution_count": 209,
   "metadata": {},
   "outputs": [
    {
     "data": {
      "text/plain": [
       "array(['versicolor', 'setosa', 'virginica', 'versicolor', 'versicolor',\n",
       "       'setosa', 'versicolor', 'virginica', 'versicolor', 'versicolor',\n",
       "       'virginica', 'setosa', 'setosa', 'setosa', 'setosa', 'versicolor',\n",
       "       'virginica', 'versicolor', 'versicolor', 'virginica', 'setosa',\n",
       "       'virginica', 'setosa', 'virginica', 'virginica', 'virginica',\n",
       "       'virginica', 'virginica', 'setosa', 'setosa'], dtype=object)"
      ]
     },
     "execution_count": 209,
     "metadata": {},
     "output_type": "execute_result"
    }
   ],
   "source": [
    "y_test"
   ]
  },
  {
   "cell_type": "code",
   "execution_count": 210,
   "metadata": {},
   "outputs": [
    {
     "data": {
      "text/plain": [
       "1.0"
      ]
     },
     "execution_count": 210,
     "metadata": {},
     "output_type": "execute_result"
    }
   ],
   "source": [
    "from sklearn.metrics import accuracy_score\n",
    "accuracy_score(y_test, pred)"
   ]
  },
  {
   "cell_type": "markdown",
   "metadata": {},
   "source": [
    "Exercise: Calculate the accuracy score for IRIS data set with only two features petal_length and petal_width."
   ]
  },
  {
   "cell_type": "code",
   "execution_count": 211,
   "metadata": {},
   "outputs": [
    {
     "name": "stdout",
     "output_type": "stream",
     "text": [
      "1.0\n",
      "['versicolor' 'setosa' 'virginica' 'versicolor' 'versicolor' 'setosa'\n",
      " 'versicolor' 'virginica' 'versicolor' 'versicolor' 'virginica' 'setosa'\n",
      " 'setosa' 'setosa' 'setosa' 'versicolor' 'virginica' 'versicolor'\n",
      " 'versicolor' 'virginica' 'setosa' 'virginica' 'setosa' 'virginica'\n",
      " 'virginica' 'virginica' 'virginica' 'virginica' 'setosa' 'setosa'] ['versicolor' 'setosa' 'virginica' 'versicolor' 'versicolor' 'setosa'\n",
      " 'versicolor' 'virginica' 'versicolor' 'versicolor' 'virginica' 'setosa'\n",
      " 'setosa' 'setosa' 'setosa' 'versicolor' 'virginica' 'versicolor'\n",
      " 'versicolor' 'virginica' 'setosa' 'virginica' 'setosa' 'virginica'\n",
      " 'virginica' 'virginica' 'virginica' 'virginica' 'setosa' 'setosa']\n"
     ]
    }
   ],
   "source": [
    "\n",
    "\n",
    "irisa = iris.as_matrix()\n",
    "\n",
    "X_train, X_test, y_train, y_test = train_test_split(\n",
    "irisa, y, test_size=0.2, random_state=42)\n",
    "\n",
    "\n",
    "m = len(y_test)\n",
    "pred = np.empty(m, dtype=object)\n",
    "\n",
    "\n",
    "for i in range(m):\n",
    "    pt = X_test[i]\n",
    "    dist = np.linalg.norm(pt-X_train, axis = 1)\n",
    "    minkind = np.argpartition(dist, k-1)[:k]\n",
    "    nn5 = y_train[minkind]\n",
    "    ctnn5 = Counter(nn5)\n",
    "    pred[i] = ctnn5.most_common(1)[0][0]  \n",
    "    \n",
    "print(accuracy_score(y_test, pred))\n",
    "print(y_test,pred)"
   ]
  },
  {
   "cell_type": "markdown",
   "metadata": {},
   "source": [
    "We had picked value of k arbitrarily. How to tune it? Take the training data and split it further."
   ]
  },
  {
   "cell_type": "code",
   "execution_count": 212,
   "metadata": {
    "collapsed": true
   },
   "outputs": [],
   "source": [
    "X_train1, X_test1, y_train1, y_test1 = train_test_split(\n",
    "X_train, y_train, test_size=0.1, random_state=0)"
   ]
  },
  {
   "cell_type": "code",
   "execution_count": 213,
   "metadata": {},
   "outputs": [
    {
     "name": "stdout",
     "output_type": "stream",
     "text": [
      "(108, 2)\n",
      "(12, 2)\n",
      "(108,)\n",
      "(12,)\n"
     ]
    }
   ],
   "source": [
    "print (np.shape(X_train1))\n",
    "print (np.shape(X_test1))\n",
    "print (np.shape(y_train1))\n",
    "print (np.shape(y_test1))\n"
   ]
  },
  {
   "cell_type": "code",
   "execution_count": 214,
   "metadata": {},
   "outputs": [
    {
     "data": {
      "text/plain": [
       "1.0"
      ]
     },
     "execution_count": 214,
     "metadata": {},
     "output_type": "execute_result"
    }
   ],
   "source": [
    "m = len(y_test1)\n",
    "pred = np.empty(m, dtype=object)\n",
    "k = 7 # you can easilty setup a loop for differnt k values\n",
    "for i in range(m):\n",
    "    pt = X_test1[i]\n",
    "    dist = np.linalg.norm(pt-X_train1, axis = 1)\n",
    "    minkind = np.argpartition(dist, k-1)[:k]\n",
    "    nn5 = y_train1[minkind]\n",
    "    ctnn5 = Counter(nn5)\n",
    "    #print (ctnn5)\n",
    "    pred[i] = ctnn5.most_common(1)[0][0] \n",
    "accuracy_score(y_test1, pred) "
   ]
  },
  {
   "cell_type": "markdown",
   "metadata": {},
   "source": [
    "### Using K-NN from Scikit Package"
   ]
  },
  {
   "cell_type": "code",
   "execution_count": 215,
   "metadata": {
    "collapsed": true
   },
   "outputs": [],
   "source": [
    "# let us take 1/3 for testing this time \n",
    "X_train, X_test, y_train, y_test = train_test_split(\n",
    "irisa, y, test_size=0.33, random_state=42)"
   ]
  },
  {
   "cell_type": "code",
   "execution_count": 216,
   "metadata": {
    "collapsed": true
   },
   "outputs": [],
   "source": [
    "from sklearn.neighbors import KNeighborsClassifier\n",
    "from sklearn.model_selection import cross_val_score"
   ]
  },
  {
   "cell_type": "code",
   "execution_count": 217,
   "metadata": {},
   "outputs": [
    {
     "name": "stdout",
     "output_type": "stream",
     "text": [
      "0.952525252525\n"
     ]
    }
   ],
   "source": [
    "k = 7\n",
    "knn = KNeighborsClassifier(n_neighbors=k)\n",
    "accuracy = cross_val_score(knn, X_train, y_train, cv=10, scoring='accuracy')\n",
    "print (accuracy.mean())"
   ]
  },
  {
   "cell_type": "code",
   "execution_count": 218,
   "metadata": {
    "scrolled": true
   },
   "outputs": [
    {
     "name": "stdout",
     "output_type": "stream",
     "text": [
      "[0.96161616161616159, 0.95252525252525255, 0.95252525252525255, 0.95252525252525255, 0.9434343434343434, 0.9434343434343434, 0.9434343434343434, 0.9434343434343434, 0.95252525252525255, 0.95161616161616158, 0.95252525252525255, 0.95252525252525255, 0.95252525252525255, 0.94252525252525265, 0.95161616161616158, 0.94252525252525265, 0.95161616161616158, 0.95161616161616158, 0.95161616161616158, 0.94252525252525265, 0.94252525252525265, 0.94252525252525265, 0.94252525252525265, 0.94252525252525265]\n",
      "[3, 5, 7, 9, 11, 13, 15, 17, 19, 21, 23, 25, 27, 29, 31, 33, 35, 37, 39, 41, 43, 45, 47, 49]\n"
     ]
    }
   ],
   "source": [
    "accuracy_array = []\n",
    "k_array = []\n",
    "for k in range(3,50,2):\n",
    "    knn = KNeighborsClassifier(n_neighbors=k)\n",
    "    accuracy = cross_val_score(knn, X_train, y_train, cv=10, scoring='accuracy')\n",
    "    accuracy_array.append(accuracy.mean())\n",
    "    k_array.append(k)\n",
    "print (accuracy_array)\n",
    "print(k_array)"
   ]
  },
  {
   "cell_type": "code",
   "execution_count": 219,
   "metadata": {
    "scrolled": true
   },
   "outputs": [
    {
     "data": {
      "image/png": "[encoded data removed]",
      "text/plain": [
       "<matplotlib.figure.Figure at 0xe70c358>"
      ]
     },
     "metadata": {},
     "output_type": "display_data"
    }
   ],
   "source": [
    "class_error = 1.0 - np.array(accuracy_array)\n",
    "plt.plot(k_array, class_error)\n",
    "plt.xlabel('K')\n",
    "plt.ylabel('Classification Error')\n",
    "plt.show()"
   ]
  },
  {
   "cell_type": "code",
   "execution_count": 220,
   "metadata": {},
   "outputs": [
    {
     "name": "stdout",
     "output_type": "stream",
     "text": [
      "Optimal value of K is 3 \n"
     ]
    }
   ],
   "source": [
    "min_ind = np.argmin(class_error)\n",
    "OptK = k_array[min_ind]\n",
    "print (\"Optimal value of K is %d \" %  OptK)"
   ]
  },
  {
   "cell_type": "code",
   "execution_count": 221,
   "metadata": {},
   "outputs": [
    {
     "name": "stdout",
     "output_type": "stream",
     "text": [
      "0.98\n"
     ]
    }
   ],
   "source": [
    "# Use Optimal value of K for test set\n",
    "knn = KNeighborsClassifier(n_neighbors=OptK)\n",
    "\n",
    "# fitting the model\n",
    "knn.fit(X_train, y_train)\n",
    "\n",
    "# predict\n",
    "pred = knn.predict(X_test)\n",
    "\n",
    "# evaluate accuracy\n",
    "print(accuracy_score(y_test, pred))"
   ]
  },
  {
   "cell_type": "markdown",
   "metadata": {},
   "source": [
    "Exercise: Load the following data set as shown below. Each row in X is a 64-dimensional data. Use K-NN from Scikit package to evaluate its effectiveness for this dataset. For this you need to partition the data into training and test set. Also, use the cross_val_score to tune the hyper parameter k.  Using the tuned k apply K-NN and evaluate the accuracy_score."
   ]
  },
  {
   "cell_type": "code",
   "execution_count": 230,
   "metadata": {},
   "outputs": [
    {
     "name": "stdout",
     "output_type": "stream",
     "text": [
      "(1797, 64)\n"
     ]
    }
   ],
   "source": [
    "# Load the  dataset\n",
    "digits = datasets.load_digits()\n",
    "X3D = digits.images # loaded as 3d array (each row is a 8 x 8 image)\n",
    "n_samples = len(X3D)\n",
    "X = X3D.reshape((n_samples, -1)) # flatten the array \n",
    "y = digits.target  \n",
    "print(np.shape(X))"
   ]
  },
  {
   "cell_type": "code",
   "execution_count": 231,
   "metadata": {},
   "outputs": [
    {
     "name": "stdout",
     "output_type": "stream",
     "text": [
      "[0.98259604899289488, 0.97839063803970272, 0.97916129320798628, 0.97591517479584711, 0.97175720448072478, 0.96932502327025039, 0.96591393734186926, 0.96270092921178796, 0.96110092921178791, 0.95862082439421081, 0.95782759854405497, 0.95444116859622807, 0.95362773044531779, 0.95275417672630935, 0.94694424292078716, 0.94614424292078725, 0.94205833414380213, 0.94214990471610505, 0.94373635366269737, 0.94294095136384681, 0.939544025688406, 0.93531927855783903, 0.9337329397600248, 0.93453971390986901]\n",
      "[3, 5, 7, 9, 11, 13, 15, 17, 19, 21, 23, 25, 27, 29, 31, 33, 35, 37, 39, 41, 43, 45, 47, 49]\n"
     ]
    }
   ],
   "source": [
    "X_train, X_test, y_train, y_test = train_test_split(\n",
    "X, y, test_size=0.33, random_state=42)\n",
    "accuracy_array = []\n",
    "k_array = []\n",
    "for k in range(3,50,2):\n",
    "    knn = KNeighborsClassifier(n_neighbors=k)\n",
    "    accuracy = cross_val_score(knn, X_train, y_train, cv=10, scoring='accuracy')\n",
    "    accuracy_array.append(accuracy.mean())\n",
    "    k_array.append(k)\n",
    "print(accuracy_array)\n",
    "print(k_array)"
   ]
  },
  {
   "cell_type": "code",
   "execution_count": 232,
   "metadata": {},
   "outputs": [
    {
     "name": "stdout",
     "output_type": "stream",
     "text": [
      "Optimal value of K is 3 \n"
     ]
    }
   ],
   "source": [
    "min_ind = np.argmin(class_error)\n",
    "OptK = k_array[min_ind]\n",
    "print (\"Optimal value of K is %d \" %  OptK)"
   ]
  },
  {
   "cell_type": "code",
   "execution_count": 233,
   "metadata": {},
   "outputs": [
    {
     "name": "stdout",
     "output_type": "stream",
     "text": [
      "0.989898989899\n"
     ]
    }
   ],
   "source": [
    "# Use Optimal value of K for test set\n",
    "knn = KNeighborsClassifier(n_neighbors=OptK)\n",
    "\n",
    "# fitting the model\n",
    "knn.fit(X_train, y_train)\n",
    "\n",
    "# predict\n",
    "pred = knn.predict(X_test)\n",
    "\n",
    "# evaluate accuracy\n",
    "print(accuracy_score(y_test, pred))"
   ]
  }
 ],
 "metadata": {
  "kernelspec": {
   "display_name": "Python 3",
   "language": "python",
   "name": "python3"
  },
  "language_info": {
   "codemirror_mode": {
    "name": "ipython",
    "version": 3
   },
   "file_extension": ".py",
   "mimetype": "text/x-python",
   "name": "python",
   "nbconvert_exporter": "python",
   "pygments_lexer": "ipython3",
   "version": "3.6.3"
  }
 },
 "nbformat": 4,
 "nbformat_minor": 2
}
